{
  "cells": [
    {
      "attachments": {},
      "cell_type": "markdown",
      "metadata": {},
      "source": [
        "# Setup"
      ]
    },
    {
      "cell_type": "code",
      "execution_count": null,
      "metadata": {
        "colab": {
          "base_uri": "https://localhost:8080/"
        },
        "id": "wbvMlHd_QwMG",
        "outputId": "4bf03330-c2e8-43ec-c5da-b7f5e0b2b123"
      },
      "outputs": [],
      "source": [
        "!git clone https://github.com/ultralytics/yolov5  # clone\n",
        "%cd yolov5\n",
        "%pip install -qr requirements.txt  # install"
      ]
    },
    {
      "attachments": {},
      "cell_type": "markdown",
      "metadata": {},
      "source": [
        "# 1.  inference"
      ]
    },
    {
      "attachments": {},
      "cell_type": "markdown",
      "metadata": {},
      "source": [
        "명령어\n",
        "\n",
        "Head 3을 사용할 때 \n",
        "* python detect.py --weights runs/train/yolov5s_new/weights/best.pt --source data/images \n",
        "* python detect.py --weights runs/train/yolov5s_new/weights/best.pt --source data/video\n",
        "\n",
        "Head 4를 사용할 때 \n",
        "* python detect.py --weights runs/train/yolov5s_new/weights/best.pt --source data/images\n",
        "* python detect.py --weights runs/train/yolov5s_new/weights/best.pt --source data/video"
      ]
    },
    {
      "attachments": {},
      "cell_type": "markdown",
      "metadata": {},
      "source": [
        "## 1.1 Scene-specific method\n",
        "\n",
        "File: /Detect_yolov5/utils/function.py\n",
        "아래의 파일은 function.py의 line 12 ~ 52을 나타낸다.\n",
        "\n",
        "크게 헤드를 4개(Nano, Small, Medium, Large)를 사용한 것과 헤드 3개(Small, Medium, Large)를 사용한 두가지 방법으로 나뉜다.\n",
        "\n",
        "헤드 4개 및 3개를 사용하기 위해 설정해야하는 코드는 다음과 같다.\n",
        "\n",
        "1. head_stages = [ ]\n",
        "2. start, end, head = num, num, num"
      ]
    },
    {
      "cell_type": "code",
      "execution_count": 5,
      "metadata": {},
      "outputs": [],
      "source": [
        "\n",
        "\n",
        "\n",
        "#head_stages = [4, 6, 10, 13, 14, 17, 20, 23]  # if you want head 3 \n",
        "head_stages = [2, 4, 6, 10, 13, 14, 17, 18, 21, 24, 27, 30] # if you want head 4 \n",
        "\n",
        "start, end, head = 22, 30, 1 #start of cut, end of cut, How many will you use to head\n",
        "\n",
        "# 네트워크 차단\n",
        "def convert(q, w, r):    \n",
        "        # if head 3\n",
        "        if q == 18 and w ==23 and r == 1:\n",
        "            out = [17]\n",
        "            print(\"only 17(80x80) head\")\n",
        "            return out, 0, 1\n",
        "        elif q == 21 and w ==23 and r == 2:\n",
        "            out = [17, 20]\n",
        "            print(\"17(80x80) head and 20(40x40) head\")\n",
        "            return out, 0, 2\n",
        "        elif q == 0 and w ==0 and r == 0:\n",
        "            out = [17, 20, 23]\n",
        "            print(\"default\")\n",
        "            return out, 0, 3\n",
        "        \n",
        "        # if head 4 \n",
        "        elif q == 22 and w ==30 and r == 1:\n",
        "            out = [21]\n",
        "            print(\"21(160x160)\")\n",
        "            return out, 0, 1\n",
        "        elif q == 25 and w ==30 and r == 2:\n",
        "            out = [21, 24]\n",
        "            print(\"21(160x160) and 24(80x80)\")\n",
        "            return out, 0, 2      \n",
        "        elif q == 28 and w ==30 and r == 3:\n",
        "            out = [21, 24, 27]\n",
        "            print(\"21(160x160) and 24(80x80)head and 27(40x40)head\")\n",
        "            return out, 0, 3\n",
        "        elif q == 0 and w ==0 and r == 1:\n",
        "            out = [21, 24, 27, 30]\n",
        "            print(\"default of head 4\")\n",
        "            return out, 0, 4\n",
        "        \n",
        "        else:\n",
        "            [print(\"\\n\\n[Please check to command in function of convert (yolo.py line 42)]\\n\\n\") for x in range(5)]  "
      ]
    },
    {
      "attachments": {},
      "cell_type": "markdown",
      "metadata": {},
      "source": [
        "### head 3의 사용 예시\n",
        "- head 3을 사용할 경우\n",
        "1.  ``` head_stages = [4, 6, 10, 13, 14, 17, 20, 23]  # if you want head 3 ``` 를 주석 해제하고 ```head_stages = [2, 4, 6, 10, 13, 14, 17, 18, 21, 24, 27, 30] # if you want head 4 ``` 를 주석처리\n",
        "2.  ```start, end, head = 0, 0, 0 ``` 사용자가 환경에 적합한 Head를 선택하여 블록처리\n",
        "- - ex) ```start, end, head = 0, 0, 0```     <-- 기본모델 헤드 3개 사용(Small, Medium, Large)\n",
        "- - ex) ```start, end, head = 18, 23, 1```   <-- 헤드 1개 사용(Small)\n",
        "- - ex) ```start, end, head = 21, 23, 2```   <-- 헤드 2개 사용(Small, Medium)"
      ]
    },
    {
      "attachments": {},
      "cell_type": "markdown",
      "metadata": {},
      "source": [
        "### head 4의 사용 예시\n",
        "- head 4를 사용할 경우\n",
        "1.  ``` head_stages = [4, 6, 10, 13, 14, 17, 20, 23]  # if you want head 3 ``` 를 주석 처리하고 ```head_stages = [2, 4, 6, 10, 13, 14, 17, 18, 21, 24, 27, 30] # if you want head 4 ``` 를 주석해제\n",
        "2.  ```start, end, head = 0, 0, 1 ``` 사용자가 환경에 적합한 Head를 선택하여 블록처리\n",
        "- - ex) ```start, end, head = 0, 0, 1``` <-- 헤드 4개 사용(Nane, Small, Medium, Large)\n",
        "- - ex) ```start, end, head = 22, 30, 1``` <-- 헤드 1개 사용(Small)\n",
        "- - ex) ```start, end, head = 25, 30, 2``` <-- 헤드 2개 사용(Small, Medium)\n",
        "- - ex) ```start, end, head = 28, 30, 3``` <-- 헤드 3개 사용(Small, Medium, Large)"
      ]
    },
    {
      "attachments": {},
      "cell_type": "markdown",
      "metadata": {},
      "source": [
        "## 1.2 Knowledge distillation\n",
        "상위모델의 결과값을 통해 하위모델을 훈련시키기 위한 방법으로 상위모델의 추론결과를 txt 파일로 저장하여 저장된 txt 파일을 통해 하위모델을 훈련시킨다.\n",
        "\n",
        "File: /Detect_yolov5/extract.py\n",
        "아래의 파일은 extract.py의 line 148 ~ 196을 나타낸다."
      ]
    },
    {
      "attachments": {},
      "cell_type": "markdown",
      "metadata": {},
      "source": [
        "명령어 \n",
        "* python extract.py --weights runs/train/yolov5s_new/weights/best.pt --source data/images --nosave"
      ]
    },
    {
      "cell_type": "code",
      "execution_count": null,
      "metadata": {},
      "outputs": [],
      "source": [
        "#label 경로설정\n",
        "            label_path = \"C:/Users/dlwlsgh/Detect_yolov5/runs/ext/\"\n",
        "\n",
        "            if len(det):\n",
        "                # 파일 이름 변환\n",
        "                rename1 = p.name\n",
        "                new_rename = rename1.replace('.png', '').replace('.jpg', '')\n",
        "                # 파일 입력\n",
        "                file = open(f\"{label_path}{new_rename}.txt\", \"w+\") \n",
        "                # Rescale boxes from img_size to im0 size\n",
        "                det[:, :4] = scale_coords(im.shape[2:], det[:, :4], im0.shape).round()\n",
        "\n",
        "                # Print results\n",
        "                for c in det[:, -1].unique():\n",
        "                    n = (det[:, -1] == c).sum()  # detections per class\n",
        "                    s += f\"{n} {names[int(c)]}{'s' * (n > 1)}, \"  # add to string\n",
        "                   \n",
        "\n",
        "                # Write results\n",
        "                for *xyxy, conf, cls in reversed(det):\n",
        "                    if save_txt:  # Write to file\n",
        "                        xywh = (xyxy2xywh(torch.tensor(xyxy).view(1, 4)) / gn).view(-1).tolist()  # normalized xywh\n",
        "                        line = (cls, *xywh, conf) if save_conf else (cls, *xywh)  # label format\n",
        "                        with open(f'{txt_path}.txt', 'a') as f:\n",
        "                            f.write(('%g ' * len(line)).rstrip() % line + '\\n')\n",
        "\n",
        "                    if save_img or save_crop or view_img:  # Add bbox to image\n",
        "                        xywh = (xyxy2xywh(torch.tensor(xyxy).view(1, 4)) / gn).view(-1).tolist()  # normalized xywh  앵커박스 위치\n",
        "                        #C_xywh = str(xywh)[1:-1] # 괄호만 없애기\n",
        "                        C_xywh = ' '.join(map(str, xywh)) #list에서 , : 양쪽 괄호 없애기 \n",
        "                        c = int(cls)  # integer class 클래스 종류 번호\n",
        "                        #print(f\"interger class 클래스 종류 번호: {c}\")\n",
        "                        \n",
        "                        # 필요한 클래스만  추출\n",
        "                        if 0 <= c <= 80: #'person_0', 'bicycle_1', 'car_2',motorcycle_3\n",
        "                           file.write(f\"{str(c)} {C_xywh} \\n\") # 텍스트 파일 입력\n",
        "                        # if  c ==7 or 2 : \n",
        "                        #    file.write(f\"{str(1)} {C_xywh}\\n\") \n",
        "                        # # elif c == 2 or c == 5 or c == 7 : #bus_5 #truck_7\n",
        "                        #     file.write(f\"{str(0)} {C_xywh}\\n\")\n",
        "                        # elif c == 2:\n",
        "                        #     file.write(f\"{str(0)} {C_xywh}\\n\")\n",
        "\n",
        "                        #print(f\"{c} {C_xywh}\\n\") # 클래스 번호 및 좌표\n",
        "                        label = None if hide_labels else (names[c] if hide_conf else f'{names[c]} {conf:.2f}')\n",
        "                        annotator.box_label(xyxy, label, color=colors(c, True))\n",
        "                        if save_crop:\n",
        "                         save_one_box(xyxy, imc, file=save_dir / 'crops' / names[c] / f'{p.stem}.jpg', BGR=True)\n",
        "                file.close()"
      ]
    },
    {
      "attachments": {},
      "cell_type": "markdown",
      "metadata": {},
      "source": [
        "\n",
        "사용하기 위한 방법은 다음과 같다.\n",
        "\n",
        "1. txt 파일이 저장될 경로를 설정. \n",
        "\n",
        "2. 추출하고 싶은 클래스만 설정하여 사용한다.\n"
      ]
    },
    {
      "attachments": {},
      "cell_type": "markdown",
      "metadata": {},
      "source": [
        "### 1. txt 파일이 저장될 경로를 설정한다. \n",
        "-  첫번째로 선언된 label_path에 txt 파일을 저장할 폴더를 설정한다.\n",
        "-  ```label_path = \"path\"  ```\n",
        "-  - ex) ```label_path = \"C:/Users/dlwlsgh/Detect_yolov5/runs/ext/\"```"
      ]
    },
    {
      "cell_type": "code",
      "execution_count": 9,
      "metadata": {},
      "outputs": [],
      "source": [
        "            #label 경로설정\n",
        "            label_path = \"C:/Users/dlwlsgh/Detect_yolov5/runs/ext/\""
      ]
    },
    {
      "attachments": {},
      "cell_type": "markdown",
      "metadata": {},
      "source": [
        "### 2. 추출하고 싶은 클래스만 설정하여 사용한다.\n",
        "-  기본적으로 YOLOv5의 사전 훈련된 모델은 80개의 클래스를 가지고 있다. 하지만 본연구에서는 보행자, 차량만 사용하면 되므로 다른 클래스들은 무시하고 추출(보행자, 차량)하여 오탐지에 대한 부정확성을 줄인다."
      ]
    },
    {
      "attachments": {},
      "cell_type": "markdown",
      "metadata": {},
      "source": [
        "- 파이썬 사전 훈련된 클래스 종류 <br><br>\n",
        "- - ```[0, 'person', 1, 'bicycle', 2, 'car', 3, 'motorcycle', 4, 'airplane', 5, 'bus', 6, 'train', 7, 'truck', 8, 'boat', 9, 'traffic light', 10, 'fire hydrant', 11, 'stop sign', 12, 'parking meter', 13, 'bench', 14, 'bird', 15, 'cat', 16, 'dog', 17, 'horse', 18, 'sheep', 19, 'cow', 20, 'elephant', 21, 'bear', 22, 'zebra', 23, 'giraffe', 24, 'backpack', 25, 'umbrella', 26, 'handbag', 27, 'tie', 28, 'suitcase', 29, 'frisbee', 30, 'skis', 31, 'snowboard', 32, 'sports ball', 33, 'kite', 34, 'baseball bat', 35, 'baseball glove', 36, 'skateboard', 37, 'surfboard', 38, 'tennis racket', 39, 'bottle', 40, 'wine glass', 41, 'cup', 42, 'fork', 43, 'knife', 44, 'spoon', 45, 'bowl', 46, 'banana', 47, 'apple', 48, 'sandwich', 49, 'orange', 50, 'broccoli', 51, 'carrot', 52, 'hot dog', 53, 'pizza', 54, 'donut', 55, 'cake', 56, 'chair', 57, 'couch', 58, 'potted plant', 59, 'bed', 60, 'dining table', 61, 'toilet', 62, 'tv', 63, 'laptop', 64, 'mouse', 65, 'remote', 66, 'keyboard', 67, 'cell phone', 68, 'microwave', 69, 'oven', 70, 'toaster', 71, 'sink', 72, 'refrigerator', 73, 'book', 74, 'clock', 75, 'vase', 76, 'scissors', 77, 'teddy bear', 78, 'hair drier', 79, 'toothbrush'] ``` <br><br><br>\n",
        "\n",
        "- 아래의 코드는 사람은 클래스 0으로 그대로 출력하고, 자동차, 버스, 트럭은 클래스 1로 새로 오버랩 하여 사용하는 예제를 나타낸다. \n"
      ]
    },
    {
      "cell_type": "code",
      "execution_count": null,
      "metadata": {},
      "outputs": [],
      "source": [
        "                        # 필요한 클래스만  추출\n",
        "                        if c == 0 : # 사람은 그대로 클래스 0 으로 출력\n",
        "                           file.write(f\"{str(c)} {C_xywh} \\n\") \n",
        "                        elif c == 2 or c == 5 or c == 7 : # 자동차와 트럭의 경우 클래스 1로 출력\n",
        "                            file.write(f\"{str(0)} {C_xywh}\\n\")"
      ]
    },
    {
      "attachments": {},
      "cell_type": "markdown",
      "metadata": {},
      "source": [
        "- 추출된 txt 파일을 "
      ]
    },
    {
      "attachments": {},
      "cell_type": "markdown",
      "metadata": {
        "id": "ZY2VXXXu74w5"
      },
      "source": [
        "# 3. Train"
      ]
    },
    {
      "attachments": {},
      "cell_type": "markdown",
      "metadata": {},
      "source": [
        "## Head 4개 모델 사용\n",
        "\n",
        "기존 yolov5에서 제공하는 yolov5s 모델이 아닌 헤드 및 스테이지를 추가한 head4 모델을 사용한다. \n",
        "수정된 부분은 각 단계별 stage 및 Nano 크기의 헤드가 추가 되었고,  \n",
        "\n",
        " anchor는 auto-anchor가 사용 되므로 anchor box의 사전 설정은 사용하지 않는다.\n",
        "\n",
        "File: /Detect_yolov5/models/yolov5s.yaml 과 File: /Detect_yolov5/models/yolov5s_new.yaml\n",
        "아래의 파일은 욜로에서 제공되는 기본 모델(head3)인 yolov5s.yaml 파일과 수정할 모델인(head4)yolov5s_new.yaml 파일을 나타낸다."
      ]
    },
    {
      "attachments": {},
      "cell_type": "markdown",
      "metadata": {},
      "source": [
        "### head 3 모델(base)"
      ]
    },
    {
      "cell_type": "code",
      "execution_count": null,
      "metadata": {},
      "outputs": [],
      "source": [
        "# YOLOv5 🚀 by Ultralytics, GPL-3.0 license\n",
        "\n",
        "# Parameters\n",
        "nc: 80  # number of classes\n",
        "depth_multiple: 0.33  # model depth multiple\n",
        "width_multiple: 0.50  # layer channel multiple\n",
        "anchors:\n",
        "  - [10,13, 16,30, 33,23]  # P3/8\n",
        "  - [30,61, 62,45, 59,119]  # P4/16\n",
        "  - [116,90, 156,198, 373,326]  # P5/32\n",
        "\n",
        "# YOLOv5 v6.0 backbone\n",
        "backbone:\n",
        "  # [from: 어느 계층에서 오는 모듈 입력인지, number: 모듈이 반복되는 횟수, module: 모듈 이름, args: 모듈 인수]\n",
        "  # [from, number, module, args]\n",
        "  # chnal kernal stride p\n",
        "  [[-1, 1, Conv, [64, 6, 2, 2]],  # 0-P1/2\n",
        "   [-1, 1, Conv, [128, 3, 2]],  # 1-P2/4\n",
        "   [-1, 3, C3, [128]], \n",
        "   [-1, 1, Conv, [256, 3, 2]],  # 3-P3/8\n",
        "   [-1, 6, C3, [256]],\n",
        "   [-1, 1, Conv, [512, 3, 2]],  # 5-P4/16\n",
        "   [-1, 9, C3, [512]],\n",
        "   [-1, 1, Conv, [1024, 3, 2]],  # 7-P5/32\n",
        "   [-1, 3, C3, [1024]],\n",
        "   [-1, 1, SPPF, [1024, 5]],  # 9\n",
        "  ]\n",
        "\n",
        "# YOLOv5 v6.0 head\n",
        "head:\n",
        "  [[-1, 1, Conv, [512, 1, 1]],\n",
        "   [-1, 1, nn.Upsample, [None, 2, 'nearest']],\n",
        "   [[-1, 6], 1, Concat, [1]],  # cat backbone P4\n",
        "   [-1, 3, C3, [512, False]],  # 13\n",
        "\n",
        "   [-1, 1, Conv, [256, 1, 1]],\n",
        "   [-1, 1, nn.Upsample, [None, 2, 'nearest']],\n",
        "   [[-1, 4], 1, Concat, [1]],  # cat backbone P3\n",
        "   [-1, 3, C3, [256, False]],  # 17 (P3/8-small)\n",
        "\n",
        "   [-1, 1, Conv, [256, 3, 2]],\n",
        "   [[-1, 14], 1, Concat, [1]],  # cat head P4\n",
        "   [-1, 3, C3, [512, False]],  # 20 (P4/16-medium)\n",
        "\n",
        "   [-1, 1, Conv, [512, 3, 2]],\n",
        "   [[-1, 10], 1, Concat, [1]],  # cat head P5\n",
        "   [-1, 3, C3, [1024, False]],  # 23 (P5/32-large) \n",
        "\n",
        "   [[17, 20, 23], 1, Detect, [nc, anchors]],  # Detect(P3, P4, P5) # 24\n",
        "  ]"
      ]
    },
    {
      "attachments": {},
      "cell_type": "markdown",
      "metadata": {},
      "source": [
        "### head4 모델"
      ]
    },
    {
      "cell_type": "code",
      "execution_count": null,
      "metadata": {},
      "outputs": [],
      "source": [
        "# YOLOv5 🚀 by Ultralytics, GPL-3.0 license\n",
        "\n",
        "# Parameters\n",
        "nc: 80  # number of classes\n",
        "depth_multiple: 0.33  # model depth multiple\n",
        "width_multiple: 0.50  # layer channel multiple\n",
        "anchors: 3\n",
        "\n",
        "# YOLOv5 v6.0 backbone\n",
        "backbone:\n",
        "  # [from: 어느 계층에서 오는 모듈 입력인지, number: Conv모듈의  Bottleneck이 반복되는 횟수, module: 모듈 이름, args: 모듈 인수]\n",
        "  # [from, number, module, args]\n",
        "  [[-1, 1, Conv, [64, 6, 2, 2]],  # 0-P1/2\n",
        "   [-1, 1, Conv, [128, 3, 2]],  # 1-P2/4\n",
        "   [-1, 3, C3, [128]],\n",
        "   [-1, 1, Conv, [256, 3, 2]],  # 3-P3/8\n",
        "   [-1, 6, C3, [256]],\n",
        "   [-1, 1, Conv, [512, 3, 2]],  # 5-P4/16\n",
        "   [-1, 9, C3, [512]],\n",
        "   [-1, 1, Conv, [1024, 3, 2]],  # 7-P5/32\n",
        "   [-1, 3, C3, [1024]],\n",
        "   [-1, 1, SPPF, [1024, 5]],  # 9\n",
        "  ]\n",
        "\n",
        "  \n",
        "head:\n",
        "  [[-1, 1, Conv, [512, 1, 1]], # 10\n",
        "   [-1, 1, nn.Upsample, [None, 2, 'nearest']],  # 11\n",
        "   [[-1, 6], 1, Concat, [1]],  # 12 cat backbone P4 \n",
        "   [-1, 3, C3, [512, False]],  # 13 \n",
        "\n",
        "   [-1, 1, Conv, [256, 1, 1]], # 14\n",
        "   [-1, 1, nn.Upsample, [None, 2, 'nearest']],  # 15\n",
        "   [[-1, 4], 1, Concat, [1]],  # 16 cat backbone P3 \n",
        "   [-1, 3, C3, [256, False]],  # 17 \n",
        "   \n",
        "   [-1, 1, Conv, [128, 1, 1]], # 18\n",
        "   [-1, 1, nn.Upsample, [None, 2, 'nearest']],  # 19\n",
        "   [[-1, 2], 1, Concat, [1]],  # 20 cat backbone P2 \n",
        "   [-1, 3, C3, [128, False]],  # 21 (P2/4-nano)\n",
        "\n",
        "   [-1, 1, Conv, [128, 3, 2]],  # 22\n",
        "   [[-1, 18], 1, Concat, [1]],   # 23 cat head P3 \n",
        "   [-1, 3, C3, [256, False]],  # 24 (P3/8-small)\n",
        "\n",
        "   [-1, 1, Conv, [256, 3, 2]],  # 25\n",
        "   [[-1, 14], 1, Concat, [1]],  # 26 cat head P4\n",
        "   [-1, 3, C3, [512, False]],  # 27 (P4/16-medium)\n",
        "\n",
        "   [-1, 1, Conv, [512, 3, 2]],  # 28\n",
        "   [[-1, 10], 1, Concat, [1]],  # 29 cat head P5\n",
        "   [-1, 3, C3, [1024, False]],  # 30 (P5/32-large) #False ==shortcut을 의미\n",
        "\n",
        "   [[21, 24, 27, 30], 1, Detect, [nc, anchors]],  # Detect(P2, P3, P4, P5)\n",
        "  ]\n"
      ]
    },
    {
      "attachments": {},
      "cell_type": "markdown",
      "metadata": {},
      "source": [
        "### 훈련 명령어 head 4"
      ]
    },
    {
      "cell_type": "code",
      "execution_count": null,
      "metadata": {
        "colab": {
          "base_uri": "https://localhost:8080/"
        },
        "id": "1NcFxRcFdJ_O",
        "outputId": "be9424b5-34d6-4de0-e951-2c5ae334721e"
      },
      "outputs": [],
      "source": [
        "# commend\n",
        "!python train.py --img 640 --batch 16 --epochs 100 --data aict.yaml --weights yolov5s.pt --cfg yolov5s_new.yaml"
      ]
    },
    {
      "attachments": {},
      "cell_type": "markdown",
      "metadata": {},
      "source": [
        "### Tensorboard로 모델 성능 확인"
      ]
    },
    {
      "cell_type": "code",
      "execution_count": null,
      "metadata": {},
      "outputs": [],
      "source": [
        "# Tensorboard  (optional)\n",
        "%load_ext tensorboard\n",
        "%tensorboard --logdir runs/train"
      ]
    }
  ],
  "metadata": {
    "accelerator": "GPU",
    "colab": {
      "collapsed_sections": [],
      "include_colab_link": true,
      "machine_shape": "hm",
      "name": "YOLOv5 Tutorial",
      "provenance": []
    },
    "kernelspec": {
      "display_name": "Python 3",
      "language": "python",
      "name": "python3"
    },
    "language_info": {
      "codemirror_mode": {
        "name": "ipython",
        "version": 3
      },
      "file_extension": ".py",
      "mimetype": "text/x-python",
      "name": "python",
      "nbconvert_exporter": "python",
      "pygments_lexer": "ipython3",
      "version": "3.9.10 (tags/v3.9.10:f2f3f53, Jan 17 2022, 15:14:21) [MSC v.1929 64 bit (AMD64)]"
    },
    "vscode": {
      "interpreter": {
        "hash": "290d2e246ddb8b1fcf65ef11241e81796f33989a55bf90b94a7afd332cb4d840"
      }
    },
    "widgets": {
      "application/vnd.jupyter.widget-state+json": {
        "20c89dc0d82a4bdf8756bf5e34152292": {
          "model_module": "@jupyter-widgets/controls",
          "model_module_version": "1.5.0",
          "model_name": "HTMLModel",
          "state": {
            "_dom_classes": [],
            "_model_module": "@jupyter-widgets/controls",
            "_model_module_version": "1.5.0",
            "_model_name": "HTMLModel",
            "_view_count": null,
            "_view_module": "@jupyter-widgets/controls",
            "_view_module_version": "1.5.0",
            "_view_name": "HTMLView",
            "description": "",
            "description_tooltip": null,
            "layout": "IPY_MODEL_801e720897804703b4d32f99f84cc3b8",
            "placeholder": "​",
            "style": "IPY_MODEL_c9fb2e268cc94d508d909b3b72ac9df3",
            "value": "100%"
          }
        },
        "572de771c7b34c1481def33bd5ed690d": {
          "model_module": "@jupyter-widgets/controls",
          "model_module_version": "1.5.0",
          "model_name": "HBoxModel",
          "state": {
            "_dom_classes": [],
            "_model_module": "@jupyter-widgets/controls",
            "_model_module_version": "1.5.0",
            "_model_name": "HBoxModel",
            "_view_count": null,
            "_view_module": "@jupyter-widgets/controls",
            "_view_module_version": "1.5.0",
            "_view_name": "HBoxView",
            "box_style": "",
            "children": [
              "IPY_MODEL_20c89dc0d82a4bdf8756bf5e34152292",
              "IPY_MODEL_61026f684725441db2a640e531807675",
              "IPY_MODEL_8d2e16d90e13449598d7b3fac75f78a3"
            ],
            "layout": "IPY_MODEL_a09d90f1bd374ece9a29bc6cfe07c072"
          }
        },
        "61026f684725441db2a640e531807675": {
          "model_module": "@jupyter-widgets/controls",
          "model_module_version": "1.5.0",
          "model_name": "FloatProgressModel",
          "state": {
            "_dom_classes": [],
            "_model_module": "@jupyter-widgets/controls",
            "_model_module_version": "1.5.0",
            "_model_name": "FloatProgressModel",
            "_view_count": null,
            "_view_module": "@jupyter-widgets/controls",
            "_view_module_version": "1.5.0",
            "_view_name": "ProgressView",
            "bar_style": "success",
            "description": "",
            "description_tooltip": null,
            "layout": "IPY_MODEL_bfbc16e88df24fae93e8c80538e78273",
            "max": 818322941,
            "min": 0,
            "orientation": "horizontal",
            "style": "IPY_MODEL_d9ffa50bddb7455ca4d67ec220c4a10c",
            "value": 818322941
          }
        },
        "78e5b8dba72942bfacfee54ceec53784": {
          "model_module": "@jupyter-widgets/controls",
          "model_module_version": "1.5.0",
          "model_name": "DescriptionStyleModel",
          "state": {
            "_model_module": "@jupyter-widgets/controls",
            "_model_module_version": "1.5.0",
            "_model_name": "DescriptionStyleModel",
            "_view_count": null,
            "_view_module": "@jupyter-widgets/base",
            "_view_module_version": "1.2.0",
            "_view_name": "StyleView",
            "description_width": ""
          }
        },
        "801e720897804703b4d32f99f84cc3b8": {
          "model_module": "@jupyter-widgets/base",
          "model_module_version": "1.2.0",
          "model_name": "LayoutModel",
          "state": {
            "_model_module": "@jupyter-widgets/base",
            "_model_module_version": "1.2.0",
            "_model_name": "LayoutModel",
            "_view_count": null,
            "_view_module": "@jupyter-widgets/base",
            "_view_module_version": "1.2.0",
            "_view_name": "LayoutView",
            "align_content": null,
            "align_items": null,
            "align_self": null,
            "border": null,
            "bottom": null,
            "display": null,
            "flex": null,
            "flex_flow": null,
            "grid_area": null,
            "grid_auto_columns": null,
            "grid_auto_flow": null,
            "grid_auto_rows": null,
            "grid_column": null,
            "grid_gap": null,
            "grid_row": null,
            "grid_template_areas": null,
            "grid_template_columns": null,
            "grid_template_rows": null,
            "height": null,
            "justify_content": null,
            "justify_items": null,
            "left": null,
            "margin": null,
            "max_height": null,
            "max_width": null,
            "min_height": null,
            "min_width": null,
            "object_fit": null,
            "object_position": null,
            "order": null,
            "overflow": null,
            "overflow_x": null,
            "overflow_y": null,
            "padding": null,
            "right": null,
            "top": null,
            "visibility": null,
            "width": null
          }
        },
        "8be83ee30f804775aa55aeb021bf515b": {
          "model_module": "@jupyter-widgets/base",
          "model_module_version": "1.2.0",
          "model_name": "LayoutModel",
          "state": {
            "_model_module": "@jupyter-widgets/base",
            "_model_module_version": "1.2.0",
            "_model_name": "LayoutModel",
            "_view_count": null,
            "_view_module": "@jupyter-widgets/base",
            "_view_module_version": "1.2.0",
            "_view_name": "LayoutView",
            "align_content": null,
            "align_items": null,
            "align_self": null,
            "border": null,
            "bottom": null,
            "display": null,
            "flex": null,
            "flex_flow": null,
            "grid_area": null,
            "grid_auto_columns": null,
            "grid_auto_flow": null,
            "grid_auto_rows": null,
            "grid_column": null,
            "grid_gap": null,
            "grid_row": null,
            "grid_template_areas": null,
            "grid_template_columns": null,
            "grid_template_rows": null,
            "height": null,
            "justify_content": null,
            "justify_items": null,
            "left": null,
            "margin": null,
            "max_height": null,
            "max_width": null,
            "min_height": null,
            "min_width": null,
            "object_fit": null,
            "object_position": null,
            "order": null,
            "overflow": null,
            "overflow_x": null,
            "overflow_y": null,
            "padding": null,
            "right": null,
            "top": null,
            "visibility": null,
            "width": null
          }
        },
        "8d2e16d90e13449598d7b3fac75f78a3": {
          "model_module": "@jupyter-widgets/controls",
          "model_module_version": "1.5.0",
          "model_name": "HTMLModel",
          "state": {
            "_dom_classes": [],
            "_model_module": "@jupyter-widgets/controls",
            "_model_module_version": "1.5.0",
            "_model_name": "HTMLModel",
            "_view_count": null,
            "_view_module": "@jupyter-widgets/controls",
            "_view_module_version": "1.5.0",
            "_view_name": "HTMLView",
            "description": "",
            "description_tooltip": null,
            "layout": "IPY_MODEL_8be83ee30f804775aa55aeb021bf515b",
            "placeholder": "​",
            "style": "IPY_MODEL_78e5b8dba72942bfacfee54ceec53784",
            "value": " 780M/780M [01:28&lt;00:00, 9.08MB/s]"
          }
        },
        "a09d90f1bd374ece9a29bc6cfe07c072": {
          "model_module": "@jupyter-widgets/base",
          "model_module_version": "1.2.0",
          "model_name": "LayoutModel",
          "state": {
            "_model_module": "@jupyter-widgets/base",
            "_model_module_version": "1.2.0",
            "_model_name": "LayoutModel",
            "_view_count": null,
            "_view_module": "@jupyter-widgets/base",
            "_view_module_version": "1.2.0",
            "_view_name": "LayoutView",
            "align_content": null,
            "align_items": null,
            "align_self": null,
            "border": null,
            "bottom": null,
            "display": null,
            "flex": null,
            "flex_flow": null,
            "grid_area": null,
            "grid_auto_columns": null,
            "grid_auto_flow": null,
            "grid_auto_rows": null,
            "grid_column": null,
            "grid_gap": null,
            "grid_row": null,
            "grid_template_areas": null,
            "grid_template_columns": null,
            "grid_template_rows": null,
            "height": null,
            "justify_content": null,
            "justify_items": null,
            "left": null,
            "margin": null,
            "max_height": null,
            "max_width": null,
            "min_height": null,
            "min_width": null,
            "object_fit": null,
            "object_position": null,
            "order": null,
            "overflow": null,
            "overflow_x": null,
            "overflow_y": null,
            "padding": null,
            "right": null,
            "top": null,
            "visibility": null,
            "width": null
          }
        },
        "bfbc16e88df24fae93e8c80538e78273": {
          "model_module": "@jupyter-widgets/base",
          "model_module_version": "1.2.0",
          "model_name": "LayoutModel",
          "state": {
            "_model_module": "@jupyter-widgets/base",
            "_model_module_version": "1.2.0",
            "_model_name": "LayoutModel",
            "_view_count": null,
            "_view_module": "@jupyter-widgets/base",
            "_view_module_version": "1.2.0",
            "_view_name": "LayoutView",
            "align_content": null,
            "align_items": null,
            "align_self": null,
            "border": null,
            "bottom": null,
            "display": null,
            "flex": null,
            "flex_flow": null,
            "grid_area": null,
            "grid_auto_columns": null,
            "grid_auto_flow": null,
            "grid_auto_rows": null,
            "grid_column": null,
            "grid_gap": null,
            "grid_row": null,
            "grid_template_areas": null,
            "grid_template_columns": null,
            "grid_template_rows": null,
            "height": null,
            "justify_content": null,
            "justify_items": null,
            "left": null,
            "margin": null,
            "max_height": null,
            "max_width": null,
            "min_height": null,
            "min_width": null,
            "object_fit": null,
            "object_position": null,
            "order": null,
            "overflow": null,
            "overflow_x": null,
            "overflow_y": null,
            "padding": null,
            "right": null,
            "top": null,
            "visibility": null,
            "width": null
          }
        },
        "c9fb2e268cc94d508d909b3b72ac9df3": {
          "model_module": "@jupyter-widgets/controls",
          "model_module_version": "1.5.0",
          "model_name": "DescriptionStyleModel",
          "state": {
            "_model_module": "@jupyter-widgets/controls",
            "_model_module_version": "1.5.0",
            "_model_name": "DescriptionStyleModel",
            "_view_count": null,
            "_view_module": "@jupyter-widgets/base",
            "_view_module_version": "1.2.0",
            "_view_name": "StyleView",
            "description_width": ""
          }
        },
        "d9ffa50bddb7455ca4d67ec220c4a10c": {
          "model_module": "@jupyter-widgets/controls",
          "model_module_version": "1.5.0",
          "model_name": "ProgressStyleModel",
          "state": {
            "_model_module": "@jupyter-widgets/controls",
            "_model_module_version": "1.5.0",
            "_model_name": "ProgressStyleModel",
            "_view_count": null,
            "_view_module": "@jupyter-widgets/base",
            "_view_module_version": "1.2.0",
            "_view_name": "StyleView",
            "bar_color": null,
            "description_width": ""
          }
        }
      }
    }
  },
  "nbformat": 4,
  "nbformat_minor": 0
}
